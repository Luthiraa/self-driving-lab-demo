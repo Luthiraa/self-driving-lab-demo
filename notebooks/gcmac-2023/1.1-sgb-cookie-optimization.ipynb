{
  "cells": [
    {
      "cell_type": "markdown",
      "metadata": {
        "colab_type": "text",
        "id": "view-in-github"
      },
      "source": [
        "<a href=\"https://colab.research.google.com/github/sparks-baird/self-driving-lab-demo/blob/main/notebooks/gcmac-2023/1.1-sgb-cookie-optimization.ipynb\" target=\"_parent\"><img src=\"https://colab.research.google.com/assets/colab-badge.svg\" alt=\"Open In Colab\"/></a>"
      ]
    },
    {
      "cell_type": "markdown",
      "metadata": {
        "id": "qZNtT1kjBV1-"
      },
      "source": [
        "# Quick Start"
      ]
    },
    {
      "cell_type": "code",
      "execution_count": null,
      "metadata": {
        "id": "-Fu-l3PUBV1-"
      },
      "outputs": [],
      "source": [
        "try:\n",
        "  import google.colab\n",
        "  IN_COLAB = True\n",
        "  %pip install ax-platform\n",
        "except:\n",
        "  IN_COLAB = False"
      ]
    },
    {
      "cell_type": "code",
      "execution_count": null,
      "metadata": {},
      "outputs": [],
      "source": [
        "import numpy as np\n",
        "\n",
        "def cookie_rating(parameters):\n",
        "    sugar = parameters[\"sugar\"]\n",
        "    butter = parameters[\"butter\"]\n",
        "    flour = parameters[\"flour\"]\n",
        "    rating = 2 * sugar + 1.5 * butter + 1 * flour\n",
        "    # add random noise\n",
        "    rating = rating + np.random.normal(0, 0.2)\n",
        "    # health = -1 * sugar # reduce sugar to maximize health\n",
        "    return rating"
      ]
    },
    {
      "cell_type": "markdown",
      "metadata": {
        "id": "XtASI6r4BV2A"
      },
      "source": [
        "## Setup"
      ]
    },
    {
      "cell_type": "markdown",
      "metadata": {
        "id": "T_U8PeCdBV2A"
      },
      "source": [
        "### Create the `parameters` dictionary\n",
        "For the sake of simplicity, we'll describe the added sugar as a weight percentage. The lower bound for the sugar content is 0, and we'll arbitrarily set the upper bound to 15 grams. Flour has a lower of 0 and an upper bound of 20 grams. Butter has a lower bound of 0 and an upper bound of 5 grams."
      ]
    },
    {
      "cell_type": "markdown",
      "metadata": {
        "id": "VTgjrNxFBV2B"
      },
      "source": [
        "#### Examples\n",
        "\n",
        "<details><summary>Branin equation</summary>\n",
        "\n",
        "```python\n",
        "parameters = [\n",
        "        {\n",
        "            \"name\": \"x1\",\n",
        "            \"type\": \"range\",\n",
        "            \"bounds\": [-5.0, 10.0],\n",
        "        },\n",
        "        {\n",
        "            \"name\": \"x2\",\n",
        "            \"type\": \"range\",\n",
        "            \"bounds\": [0.0, 10.0],\n",
        "        },\n",
        "    ]\n",
        "```\n",
        "\n",
        "</details>\n",
        "\n",
        "<details><summary>Hartmann 6 equation</summary>\n",
        "\n",
        "```python\n",
        "parameters = [\n",
        "        {\n",
        "            \"name\": \"x1\",\n",
        "            \"type\": \"range\",\n",
        "            \"bounds\": [0.0, 1.0],\n",
        "            \"value_type\": \"float\",  # Optional, defaults to inference from type of \"bounds\".\n",
        "            \"log_scale\": False,  # Optional, defaults to False.\n",
        "        },\n",
        "        {\n",
        "            \"name\": \"x2\",\n",
        "            \"type\": \"range\",\n",
        "            \"bounds\": [0.0, 1.0],\n",
        "        },\n",
        "        {\n",
        "            \"name\": \"x3\",\n",
        "            \"type\": \"range\",\n",
        "            \"bounds\": [0.0, 1.0],\n",
        "        },\n",
        "        {\n",
        "            \"name\": \"x4\",\n",
        "            \"type\": \"range\",\n",
        "            \"bounds\": [0.0, 1.0],\n",
        "        },\n",
        "        {\n",
        "            \"name\": \"x5\",\n",
        "            \"type\": \"range\",\n",
        "            \"bounds\": [0.0, 1.0],\n",
        "        },\n",
        "        {\n",
        "            \"name\": \"x6\",\n",
        "            \"type\": \"range\",\n",
        "            \"bounds\": [0.0, 1.0],\n",
        "        },\n",
        "    ]\n",
        "```\n",
        "\n",
        "</details>"
      ]
    },
    {
      "cell_type": "code",
      "execution_count": null,
      "metadata": {
        "id": "l2xpoeBvBV2B"
      },
      "outputs": [],
      "source": [
        "parameters = ... # insert your code here"
      ]
    },
    {
      "cell_type": "markdown",
      "metadata": {
        "id": "SNVA8QGPBV2B"
      },
      "source": [
        "### AxClient"
      ]
    },
    {
      "cell_type": "code",
      "execution_count": null,
      "metadata": {
        "id": "LOYTxycrBV2B"
      },
      "outputs": [],
      "source": [
        "from ax.service.ax_client import AxClient\n",
        "\n",
        "ax_client = AxClient()\n",
        "ax_client.create_experiment(\n",
        "    name = \"cookie-tutorial\",\n",
        "    parameters = ..., # insert your code here\n",
        "    minimize = ..., # insert your code here\n",
        ")"
      ]
    },
    {
      "cell_type": "markdown",
      "metadata": {
        "id": "-ywbZ6ADBV2B"
      },
      "source": [
        "### Optimization loop"
      ]
    },
    {
      "cell_type": "code",
      "execution_count": null,
      "metadata": {
        "id": "hwwmxp2_BV2B"
      },
      "outputs": [],
      "source": [
        "for _ in range(15):\n",
        "    parameters, trial_index = ax_client.get_next_trial()\n",
        "    raw_data = ... # insert your code here\n",
        "    ax_client.complete_trial(trial_index=trial_index, raw_data=raw_data)"
      ]
    },
    {
      "cell_type": "markdown",
      "metadata": {
        "id": "k2VIjBKUBV2B"
      },
      "source": [
        "### Best parameters"
      ]
    },
    {
      "cell_type": "code",
      "execution_count": null,
      "metadata": {
        "id": "oZB-OaJTBV2B"
      },
      "outputs": [],
      "source": [
        "best_parameters, metrics = ax_client.get_best_parameters()"
      ]
    }
  ],
  "metadata": {
    "colab": {
      "include_colab_link": true,
      "provenance": []
    },
    "kernelspec": {
      "display_name": "self-driving-lab-demo",
      "language": "python",
      "name": "python3"
    },
    "language_info": {
      "codemirror_mode": {
        "name": "ipython",
        "version": 3
      },
      "file_extension": ".py",
      "mimetype": "text/x-python",
      "name": "python",
      "nbconvert_exporter": "python",
      "pygments_lexer": "ipython3",
      "version": "3.11.4"
    },
    "orig_nbformat": 4
  },
  "nbformat": 4,
  "nbformat_minor": 0
}
