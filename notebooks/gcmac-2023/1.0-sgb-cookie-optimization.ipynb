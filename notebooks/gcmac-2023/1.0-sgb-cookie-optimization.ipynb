{
  "cells": [
    {
      "cell_type": "markdown",
      "metadata": {
        "colab_type": "text",
        "id": "view-in-github"
      },
      "source": [
        "<a href=\"https://colab.research.google.com/github/sparks-baird/self-driving-lab-demo/blob/main/notebooks/ac-2023/bayes-opt/1.0-sgb-clslab-light-simple.ipynb\" target=\"_parent\"><img src=\"https://colab.research.google.com/assets/colab-badge.svg\" alt=\"Open In Colab\"/></a>"
      ]
    },
    {
      "cell_type": "markdown",
      "metadata": {
        "id": "qZNtT1kjBV1-"
      },
      "source": [
        "# Quick Start"
      ]
    },
    {
      "cell_type": "code",
      "execution_count": null,
      "metadata": {
        "id": "-Fu-l3PUBV1-"
      },
      "outputs": [],
      "source": [
        "try:\n",
        "  import google.colab\n",
        "  IN_COLAB = True\n",
        "except:\n",
        "  IN_COLAB = False"
      ]
    },
    {
      "cell_type": "code",
      "execution_count": 10,
      "metadata": {},
      "outputs": [
        {
          "name": "stdout",
          "output_type": "stream",
          "text": [
            "<class 'pandas.core.frame.DataFrame'>\n",
            "RangeIndex: 1990 entries, 0 to 1989\n",
            "Data columns (total 7 columns):\n",
            " #   Column        Non-Null Count  Dtype  \n",
            "---  ------        --------------  -----  \n",
            " 0   Unnamed: 0    1990 non-null   int64  \n",
            " 1   Ingredient    1990 non-null   object \n",
            " 2   Text          1990 non-null   object \n",
            " 3   Recipe_Index  1990 non-null   object \n",
            " 4   Rating        980 non-null    float64\n",
            " 5   Quantity      1990 non-null   float64\n",
            " 6   Unit          1990 non-null   object \n",
            "dtypes: float64(2), int64(1), object(4)\n",
            "memory usage: 109.0+ KB\n"
          ]
        }
      ],
      "source": [
        "import pandas as pd\n",
        "raw_df = pd.read_csv(\"cookie-dataset/choc_chip_cookie_ingredients.csv\")\n",
        "raw_df.info()"
      ]
    },
    {
      "cell_type": "code",
      "execution_count": 36,
      "metadata": {},
      "outputs": [
        {
          "data": {
            "text/plain": [
              "{'all purpose flour',\n",
              " 'almond extract',\n",
              " 'almonds',\n",
              " 'applesauce',\n",
              " 'baking powder',\n",
              " 'baking soda',\n",
              " 'bittersweet chocolate chip',\n",
              " 'bourbon',\n",
              " 'bread flour',\n",
              " 'brown rice flour',\n",
              " 'butter',\n",
              " 'cake flour',\n",
              " 'cake mix',\n",
              " 'cinnamon',\n",
              " 'coconut',\n",
              " 'coconut extract',\n",
              " 'cookie mix',\n",
              " 'corn syrup',\n",
              " 'cream',\n",
              " 'crispy rice',\n",
              " 'dark chocolate chip',\n",
              " 'egg',\n",
              " 'graham cracker',\n",
              " 'honey',\n",
              " 'instant coffee',\n",
              " 'light brown sugar',\n",
              " 'liquer',\n",
              " 'macadmia',\n",
              " 'maple',\n",
              " 'margarine',\n",
              " 'marshmallows',\n",
              " 'milk',\n",
              " 'milk chocolate chip',\n",
              " 'nestle',\n",
              " 'nuts',\n",
              " 'oat',\n",
              " 'peanut butter',\n",
              " 'peanut butter chips',\n",
              " 'pecan',\n",
              " 'pudding mix',\n",
              " 'raisins',\n",
              " 'salt',\n",
              " 'semisweet chocolate chip',\n",
              " 'shortening',\n",
              " 'sour cream',\n",
              " 'sugar',\n",
              " 'tartar',\n",
              " 'toffee',\n",
              " 'vanilla',\n",
              " 'vegetable oil',\n",
              " 'walnut',\n",
              " 'water',\n",
              " 'wheat',\n",
              " 'white chocolate chip',\n",
              " 'white pepper',\n",
              " 'xanthan gum',\n",
              " 'zucchini'}"
            ]
          },
          "execution_count": 36,
          "metadata": {},
          "output_type": "execute_result"
        }
      ],
      "source": [
        "# collate the data for each recipe based on the \"Recipe_Index\" key. The data should be a list of dictionaries, where each dictionary has the ingredient name, quantity, and unit. The rating should be stored in a separate column.\n",
        "df = raw_df.groupby(\"Recipe_Index\").apply(lambda x: x[[\"Ingredient\", \"Quantity\", \"Unit\", \"Rating\"]].to_dict(orient=\"records\")).reset_index(name=\"data\")\n",
        "# for each row (recipe) expand the data column into separate columns based on the Ingredient key\n",
        "df[\"rating\"] = df[\"data\"].apply(lambda x: x[0][\"Rating\"])\n",
        "\n",
        "# drop rows where the rating is NaN\n",
        "df = df.dropna(subset=[\"rating\"])\n",
        "\n",
        "# find all unique ingredients\n",
        "ingredients = set()\n",
        "for row in df[\"data\"]:\n",
        "    for ingredient in row:\n",
        "        ingredients.add(ingredient[\"Ingredient\"])\n",
        "\n",
        "ingredients"
      ]
    },
    {
      "cell_type": "code",
      "execution_count": 42,
      "metadata": {},
      "outputs": [
        {
          "data": {
            "text/plain": [
              "sugar_unit\n",
              "cup    87\n",
              "Name: count, dtype: int64"
            ]
          },
          "execution_count": 42,
          "metadata": {},
          "output_type": "execute_result"
        }
      ],
      "source": [
        "# extract the sugar quantity from the sugar ingredient\n",
        "def extract_sugar_quantity(row):\n",
        "    for ingredient in row:\n",
        "        if ingredient[\"Ingredient\"] == \"sugar\":\n",
        "            return ingredient[\"Quantity\"]\n",
        "    return None\n",
        "\n",
        "# extract the sugar unit from the sugar ingredient\n",
        "def extract_sugar_unit(row):\n",
        "    for ingredient in row:\n",
        "        if ingredient[\"Ingredient\"] == \"sugar\":\n",
        "            return ingredient[\"Unit\"]\n",
        "    return None\n",
        "\n",
        "df[\"sugar\"] = df[\"data\"].apply(extract_sugar_quantity)\n",
        "df[\"sugar_unit\"] = df[\"data\"].apply(extract_sugar_unit) # all in cups"
      ]
    },
    {
      "cell_type": "code",
      "execution_count": 43,
      "metadata": {},
      "outputs": [
        {
          "data": {
            "text/plain": [
              "0     1.000000\n",
              "1     0.800000\n",
              "2     0.738462\n",
              "3     0.333333\n",
              "4     0.400000\n",
              "        ...   \n",
              "94    1.200000\n",
              "95    0.960000\n",
              "96    4.000000\n",
              "97    1.000000\n",
              "98    0.600000\n",
              "Name: sugar, Length: 98, dtype: float64"
            ]
          },
          "execution_count": 43,
          "metadata": {},
          "output_type": "execute_result"
        }
      ],
      "source": [
        "df[\"sugar\"]"
      ]
    },
    {
      "cell_type": "markdown",
      "metadata": {
        "id": "XtASI6r4BV2A"
      },
      "source": [
        "## Setup"
      ]
    },
    {
      "cell_type": "markdown",
      "metadata": {
        "id": "T_U8PeCdBV2A"
      },
      "source": [
        "### Create the `parameters` dictionary\n",
        "For the sake of simplicity, we'll describe the added sugar as a weight percentage. The lower bound for the sugar content is 0, and we'll arbitrarily set the upper bound to 25% (see `bounds`)."
      ]
    },
    {
      "cell_type": "code",
      "execution_count": null,
      "metadata": {
        "id": "3pDJOg19BV2A"
      },
      "outputs": [],
      "source": [
        "bounds = {\"sugar_frac\": (0.0, 0.25)}"
      ]
    },
    {
      "cell_type": "markdown",
      "metadata": {
        "id": "VTgjrNxFBV2B"
      },
      "source": [
        "#### Examples\n",
        "\n",
        "<details><summary>Branin equation</summary>\n",
        "\n",
        "```python\n",
        "parameters = [\n",
        "        {\n",
        "            \"name\": \"x1\",\n",
        "            \"type\": \"range\",\n",
        "            \"bounds\": [-5.0, 10.0],\n",
        "        },\n",
        "        {\n",
        "            \"name\": \"x2\",\n",
        "            \"type\": \"range\",\n",
        "            \"bounds\": [0.0, 10.0],\n",
        "        },\n",
        "    ]\n",
        "```\n",
        "\n",
        "</details>\n",
        "\n",
        "<details><summary>Hartmann 6 equation</summary>\n",
        "\n",
        "```python\n",
        "parameters = [\n",
        "        {\n",
        "            \"name\": \"x1\",\n",
        "            \"type\": \"range\",\n",
        "            \"bounds\": [0.0, 1.0],\n",
        "            \"value_type\": \"float\",  # Optional, defaults to inference from type of \"bounds\".\n",
        "            \"log_scale\": False,  # Optional, defaults to False.\n",
        "        },\n",
        "        {\n",
        "            \"name\": \"x2\",\n",
        "            \"type\": \"range\",\n",
        "            \"bounds\": [0.0, 1.0],\n",
        "        },\n",
        "        {\n",
        "            \"name\": \"x3\",\n",
        "            \"type\": \"range\",\n",
        "            \"bounds\": [0.0, 1.0],\n",
        "        },\n",
        "        {\n",
        "            \"name\": \"x4\",\n",
        "            \"type\": \"range\",\n",
        "            \"bounds\": [0.0, 1.0],\n",
        "        },\n",
        "        {\n",
        "            \"name\": \"x5\",\n",
        "            \"type\": \"range\",\n",
        "            \"bounds\": [0.0, 1.0],\n",
        "        },\n",
        "        {\n",
        "            \"name\": \"x6\",\n",
        "            \"type\": \"range\",\n",
        "            \"bounds\": [0.0, 1.0],\n",
        "        },\n",
        "    ]\n",
        "```\n",
        "\n",
        "</details>"
      ]
    },
    {
      "cell_type": "code",
      "execution_count": null,
      "metadata": {
        "id": "l2xpoeBvBV2B"
      },
      "outputs": [],
      "source": [
        "parameters = ... # insert your code here"
      ]
    },
    {
      "cell_type": "markdown",
      "metadata": {
        "id": "SNVA8QGPBV2B"
      },
      "source": [
        "### AxClient"
      ]
    },
    {
      "cell_type": "code",
      "execution_count": null,
      "metadata": {
        "id": "LOYTxycrBV2B"
      },
      "outputs": [],
      "source": [
        "from ax.service.ax_client import AxClient\n",
        "\n",
        "ax_client = AxClient()\n",
        "ax_client.create_experiment(\n",
        "    name = \"ac-2023-tutorial\",\n",
        "    parameters = ..., # insert your code here\n",
        "    minimize = ..., # insert your code here\n",
        ")"
      ]
    },
    {
      "cell_type": "markdown",
      "metadata": {
        "id": "-ywbZ6ADBV2B"
      },
      "source": [
        "### Optimization loop"
      ]
    },
    {
      "cell_type": "code",
      "execution_count": null,
      "metadata": {
        "id": "hwwmxp2_BV2B"
      },
      "outputs": [],
      "source": [
        "for _ in range(15):\n",
        "    parameters, trial_index = ax_client.get_next_trial()\n",
        "    raw_data = ... # insert your code here\n",
        "    ax_client.complete_trial(trial_index=trial_index, raw_data=raw_data)"
      ]
    },
    {
      "cell_type": "markdown",
      "metadata": {
        "id": "k2VIjBKUBV2B"
      },
      "source": [
        "### Best parameters"
      ]
    },
    {
      "cell_type": "code",
      "execution_count": null,
      "metadata": {
        "id": "oZB-OaJTBV2B"
      },
      "outputs": [],
      "source": [
        "best_parameters, metrics = ax_client.get_best_parameters()"
      ]
    }
  ],
  "metadata": {
    "colab": {
      "include_colab_link": true,
      "provenance": []
    },
    "kernelspec": {
      "display_name": "self-driving-lab-demo",
      "language": "python",
      "name": "python3"
    },
    "language_info": {
      "codemirror_mode": {
        "name": "ipython",
        "version": 3
      },
      "file_extension": ".py",
      "mimetype": "text/x-python",
      "name": "python",
      "nbconvert_exporter": "python",
      "pygments_lexer": "ipython3",
      "version": "3.11.4"
    },
    "orig_nbformat": 4
  },
  "nbformat": 4,
  "nbformat_minor": 0
}
